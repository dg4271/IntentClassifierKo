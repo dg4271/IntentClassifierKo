{
 "cells": [
  {
   "cell_type": "markdown",
   "metadata": {},
   "source": [
    "# Hashcode Question Classification"
   ]
  },
  {
   "cell_type": "markdown",
   "metadata": {},
   "source": [
    "## 1. RNN Classifier"
   ]
  },
  {
   "cell_type": "code",
   "execution_count": 87,
   "metadata": {},
   "outputs": [
    {
     "name": "stdout",
     "output_type": "stream",
     "text": [
      "['hashcode_classification2020_test.csv', 'hashcode_classification2020_sample.csv', '.ipynb_checkpoints', 'hashcode_classification2020_train.csv']\n"
     ]
    }
   ],
   "source": [
    "import numpy as np # linear algebra\n",
    "import pandas as pd # data processing, CSV file I/O (e.g. pd.read_csv)\n",
    "\n",
    "# for counting\n",
    "import collections\n",
    "\n",
    "import re\n",
    "\n",
    "import os\n",
    "print(os.listdir(\"./input\"))\n",
    "%matplotlib inline "
   ]
  },
  {
   "cell_type": "markdown",
   "metadata": {},
   "source": [
    "## EDA"
   ]
  },
  {
   "cell_type": "code",
   "execution_count": 88,
   "metadata": {},
   "outputs": [
    {
     "data": {
      "text/html": [
       "<div>\n",
       "<style scoped>\n",
       "    .dataframe tbody tr th:only-of-type {\n",
       "        vertical-align: middle;\n",
       "    }\n",
       "\n",
       "    .dataframe tbody tr th {\n",
       "        vertical-align: top;\n",
       "    }\n",
       "\n",
       "    .dataframe thead th {\n",
       "        text-align: right;\n",
       "    }\n",
       "</style>\n",
       "<table border=\"1\" class=\"dataframe\">\n",
       "  <thead>\n",
       "    <tr style=\"text-align: right;\">\n",
       "      <th></th>\n",
       "      <th>title</th>\n",
       "      <th>content</th>\n",
       "      <th>label</th>\n",
       "    </tr>\n",
       "  </thead>\n",
       "  <tbody>\n",
       "    <tr>\n",
       "      <th>0</th>\n",
       "      <td>wait()과 sleep()의 차이점은 뭔가요</td>\n",
       "      <td>###발생하는 문제 및 실행환경\\nwait()과 sleep()의 차이점은 뭔가요</td>\n",
       "      <td>3</td>\n",
       "    </tr>\n",
       "    <tr>\n",
       "      <th>1</th>\n",
       "      <td>$$$ 초보 외부 클래스 멤버 변수 사용 질문합니다.ㅠㅠ</td>\n",
       "      <td>1.헤더에, 사용할 멤버변수가 담긴 헤더 파일이 Include 되어있습니다.\\n예를...</td>\n",
       "      <td>2</td>\n",
       "    </tr>\n",
       "    <tr>\n",
       "      <th>2</th>\n",
       "      <td>ORM: Sequelize: 다대다 관계 쿼리</td>\n",
       "      <td>안녕하세요.\\n\\n어떻게 다대다 관계 쿼리를 해야하나요? 예를들어, `product...</td>\n",
       "      <td>4</td>\n",
       "    </tr>\n",
       "    <tr>\n",
       "      <th>3</th>\n",
       "      <td>$$$에서 숫자가 NaN인지 검사하려면 어떻게해야하죠?</td>\n",
       "      <td>```\\nparseFloat('geoff') == NaN;\\n\\nparseFloat...</td>\n",
       "      <td>4</td>\n",
       "    </tr>\n",
       "    <tr>\n",
       "      <th>4</th>\n",
       "      <td>$$$ 2.7에서 중국어, 특수문자 인코딩 하는 방법이 뭔가요?</td>\n",
       "      <td>```\\n&gt;&gt;&gt;dict['name']\\n胡安·马塔\\n&gt;&gt;&gt;json.dumps(dic...</td>\n",
       "      <td>5</td>\n",
       "    </tr>\n",
       "  </tbody>\n",
       "</table>\n",
       "</div>"
      ],
      "text/plain": [
       "                                 title  \\\n",
       "0            wait()과 sleep()의 차이점은 뭔가요   \n",
       "1      $$$ 초보 외부 클래스 멤버 변수 사용 질문합니다.ㅠㅠ   \n",
       "2            ORM: Sequelize: 다대다 관계 쿼리   \n",
       "3       $$$에서 숫자가 NaN인지 검사하려면 어떻게해야하죠?   \n",
       "4  $$$ 2.7에서 중국어, 특수문자 인코딩 하는 방법이 뭔가요?   \n",
       "\n",
       "                                             content  label  \n",
       "0       ###발생하는 문제 및 실행환경\\nwait()과 sleep()의 차이점은 뭔가요      3  \n",
       "1  1.헤더에, 사용할 멤버변수가 담긴 헤더 파일이 Include 되어있습니다.\\n예를...      2  \n",
       "2  안녕하세요.\\n\\n어떻게 다대다 관계 쿼리를 해야하나요? 예를들어, `product...      4  \n",
       "3  ```\\nparseFloat('geoff') == NaN;\\n\\nparseFloat...      4  \n",
       "4  ```\\n>>>dict['name']\\n胡安·马塔\\n>>>json.dumps(dic...      5  "
      ]
     },
     "execution_count": 88,
     "metadata": {},
     "output_type": "execute_result"
    }
   ],
   "source": [
    "train_df = pd.read_csv('./input/hashcode_classification2020_train.csv', encoding='utf-8')\n",
    "train_df.head(5)"
   ]
  },
  {
   "cell_type": "code",
   "execution_count": 89,
   "metadata": {},
   "outputs": [
    {
     "name": "stdout",
     "output_type": "stream",
     "text": [
      "                                                  title content  label\n",
      "2400  [$$$] 재귀함수를 처리하면서 setTimeout으로 딜레이를 주면 읽는 순서가 ...     NaN      4\n",
      "Empty DataFrame\n",
      "Columns: [title, content, label]\n",
      "Index: []\n"
     ]
    }
   ],
   "source": [
    "print(train_df.loc[(train_df['content'].isna() == True)])\n",
    "print(train_df.loc[(train_df['title'].isna() == True)])"
   ]
  },
  {
   "cell_type": "code",
   "execution_count": 90,
   "metadata": {},
   "outputs": [
    {
     "data": {
      "text/html": [
       "<div>\n",
       "<style scoped>\n",
       "    .dataframe tbody tr th:only-of-type {\n",
       "        vertical-align: middle;\n",
       "    }\n",
       "\n",
       "    .dataframe tbody tr th {\n",
       "        vertical-align: top;\n",
       "    }\n",
       "\n",
       "    .dataframe thead th {\n",
       "        text-align: right;\n",
       "    }\n",
       "</style>\n",
       "<table border=\"1\" class=\"dataframe\">\n",
       "  <thead>\n",
       "    <tr style=\"text-align: right;\">\n",
       "      <th></th>\n",
       "      <th>title</th>\n",
       "      <th>content</th>\n",
       "      <th>label</th>\n",
       "    </tr>\n",
       "  </thead>\n",
       "  <tbody>\n",
       "  </tbody>\n",
       "</table>\n",
       "</div>"
      ],
      "text/plain": [
       "Empty DataFrame\n",
       "Columns: [title, content, label]\n",
       "Index: []"
      ]
     },
     "execution_count": 90,
     "metadata": {},
     "output_type": "execute_result"
    }
   ],
   "source": [
    "train_df.loc[(train_df['content'].isna() == True)] = \"\"\n",
    "train_df.loc[(train_df['content'].isna() == True)]"
   ]
  },
  {
   "cell_type": "markdown",
   "metadata": {},
   "source": [
    "* label이 하나만 존재하는지 확인"
   ]
  },
  {
   "cell_type": "code",
   "execution_count": 92,
   "metadata": {},
   "outputs": [
    {
     "ename": "TypeError",
     "evalue": "'>=' not supported between instances of 'int' and 'str'",
     "output_type": "error",
     "traceback": [
      "\u001b[0;31m---------------------------------------------------------------------------\u001b[0m",
      "\u001b[0;31mTypeError\u001b[0m                                 Traceback (most recent call last)",
      "\u001b[0;32m~/anaconda/envs/nlu/lib/python3.7/site-packages/pandas/core/nanops.py\u001b[0m in \u001b[0;36mf\u001b[0;34m(values, axis, skipna, **kwds)\u001b[0m\n\u001b[1;32m    126\u001b[0m                 \u001b[0;32melse\u001b[0m\u001b[0;34m:\u001b[0m\u001b[0;34m\u001b[0m\u001b[0;34m\u001b[0m\u001b[0m\n\u001b[0;32m--> 127\u001b[0;31m                     \u001b[0mresult\u001b[0m \u001b[0;34m=\u001b[0m \u001b[0malt\u001b[0m\u001b[0;34m(\u001b[0m\u001b[0mvalues\u001b[0m\u001b[0;34m,\u001b[0m \u001b[0maxis\u001b[0m\u001b[0;34m=\u001b[0m\u001b[0maxis\u001b[0m\u001b[0;34m,\u001b[0m \u001b[0mskipna\u001b[0m\u001b[0;34m=\u001b[0m\u001b[0mskipna\u001b[0m\u001b[0;34m,\u001b[0m \u001b[0;34m**\u001b[0m\u001b[0mkwds\u001b[0m\u001b[0;34m)\u001b[0m\u001b[0;34m\u001b[0m\u001b[0;34m\u001b[0m\u001b[0m\n\u001b[0m\u001b[1;32m    128\u001b[0m             \u001b[0;32mexcept\u001b[0m \u001b[0mException\u001b[0m\u001b[0;34m:\u001b[0m\u001b[0;34m\u001b[0m\u001b[0;34m\u001b[0m\u001b[0m\n",
      "\u001b[0;32m~/anaconda/envs/nlu/lib/python3.7/site-packages/pandas/core/nanops.py\u001b[0m in \u001b[0;36mreduction\u001b[0;34m(values, axis, skipna, mask)\u001b[0m\n\u001b[1;32m    741\u001b[0m         \u001b[0;32melse\u001b[0m\u001b[0;34m:\u001b[0m\u001b[0;34m\u001b[0m\u001b[0;34m\u001b[0m\u001b[0m\n\u001b[0;32m--> 742\u001b[0;31m             \u001b[0mresult\u001b[0m \u001b[0;34m=\u001b[0m \u001b[0mgetattr\u001b[0m\u001b[0;34m(\u001b[0m\u001b[0mvalues\u001b[0m\u001b[0;34m,\u001b[0m \u001b[0mmeth\u001b[0m\u001b[0;34m)\u001b[0m\u001b[0;34m(\u001b[0m\u001b[0maxis\u001b[0m\u001b[0;34m)\u001b[0m\u001b[0;34m\u001b[0m\u001b[0;34m\u001b[0m\u001b[0m\n\u001b[0m\u001b[1;32m    743\u001b[0m \u001b[0;34m\u001b[0m\u001b[0m\n",
      "\u001b[0;32m~/anaconda/envs/nlu/lib/python3.7/site-packages/numpy/core/_methods.py\u001b[0m in \u001b[0;36m_amax\u001b[0;34m(a, axis, out, keepdims, initial)\u001b[0m\n\u001b[1;32m     27\u001b[0m           initial=_NoValue):\n\u001b[0;32m---> 28\u001b[0;31m     \u001b[0;32mreturn\u001b[0m \u001b[0mumr_maximum\u001b[0m\u001b[0;34m(\u001b[0m\u001b[0ma\u001b[0m\u001b[0;34m,\u001b[0m \u001b[0maxis\u001b[0m\u001b[0;34m,\u001b[0m \u001b[0;32mNone\u001b[0m\u001b[0;34m,\u001b[0m \u001b[0mout\u001b[0m\u001b[0;34m,\u001b[0m \u001b[0mkeepdims\u001b[0m\u001b[0;34m,\u001b[0m \u001b[0minitial\u001b[0m\u001b[0;34m)\u001b[0m\u001b[0;34m\u001b[0m\u001b[0;34m\u001b[0m\u001b[0m\n\u001b[0m\u001b[1;32m     29\u001b[0m \u001b[0;34m\u001b[0m\u001b[0m\n",
      "\u001b[0;31mTypeError\u001b[0m: '>=' not supported between instances of 'int' and 'str'",
      "\nDuring handling of the above exception, another exception occurred:\n",
      "\u001b[0;31mTypeError\u001b[0m                                 Traceback (most recent call last)",
      "\u001b[0;32m<ipython-input-92-7d1a0e5f0b82>\u001b[0m in \u001b[0;36m<module>\u001b[0;34m\u001b[0m\n\u001b[0;32m----> 1\u001b[0;31m \u001b[0mtrain_df\u001b[0m\u001b[0;34m[\u001b[0m\u001b[0;34m'label'\u001b[0m\u001b[0;34m]\u001b[0m\u001b[0;34m.\u001b[0m\u001b[0mhist\u001b[0m\u001b[0;34m(\u001b[0m\u001b[0mbins\u001b[0m\u001b[0;34m=\u001b[0m\u001b[0mtrain_df\u001b[0m\u001b[0;34m[\u001b[0m\u001b[0;34m'label'\u001b[0m\u001b[0;34m]\u001b[0m\u001b[0;34m.\u001b[0m\u001b[0mmax\u001b[0m\u001b[0;34m(\u001b[0m\u001b[0;34m)\u001b[0m\u001b[0;34m)\u001b[0m\u001b[0;34m\u001b[0m\u001b[0;34m\u001b[0m\u001b[0m\n\u001b[0m",
      "\u001b[0;32m~/anaconda/envs/nlu/lib/python3.7/site-packages/pandas/core/generic.py\u001b[0m in \u001b[0;36mstat_func\u001b[0;34m(self, axis, skipna, level, numeric_only, **kwargs)\u001b[0m\n\u001b[1;32m  10954\u001b[0m                                       skipna=skipna)\n\u001b[1;32m  10955\u001b[0m         return self._reduce(f, name, axis=axis, skipna=skipna,\n\u001b[0;32m> 10956\u001b[0;31m                             numeric_only=numeric_only)\n\u001b[0m\u001b[1;32m  10957\u001b[0m \u001b[0;34m\u001b[0m\u001b[0m\n\u001b[1;32m  10958\u001b[0m     \u001b[0;32mreturn\u001b[0m \u001b[0mset_function_name\u001b[0m\u001b[0;34m(\u001b[0m\u001b[0mstat_func\u001b[0m\u001b[0;34m,\u001b[0m \u001b[0mname\u001b[0m\u001b[0;34m,\u001b[0m \u001b[0mcls\u001b[0m\u001b[0;34m)\u001b[0m\u001b[0;34m\u001b[0m\u001b[0;34m\u001b[0m\u001b[0m\n",
      "\u001b[0;32m~/anaconda/envs/nlu/lib/python3.7/site-packages/pandas/core/series.py\u001b[0m in \u001b[0;36m_reduce\u001b[0;34m(self, op, name, axis, skipna, numeric_only, filter_type, **kwds)\u001b[0m\n\u001b[1;32m   3628\u001b[0m                                           'numeric_only.'.format(name))\n\u001b[1;32m   3629\u001b[0m             \u001b[0;32mwith\u001b[0m \u001b[0mnp\u001b[0m\u001b[0;34m.\u001b[0m\u001b[0merrstate\u001b[0m\u001b[0;34m(\u001b[0m\u001b[0mall\u001b[0m\u001b[0;34m=\u001b[0m\u001b[0;34m'ignore'\u001b[0m\u001b[0;34m)\u001b[0m\u001b[0;34m:\u001b[0m\u001b[0;34m\u001b[0m\u001b[0;34m\u001b[0m\u001b[0m\n\u001b[0;32m-> 3630\u001b[0;31m                 \u001b[0;32mreturn\u001b[0m \u001b[0mop\u001b[0m\u001b[0;34m(\u001b[0m\u001b[0mdelegate\u001b[0m\u001b[0;34m,\u001b[0m \u001b[0mskipna\u001b[0m\u001b[0;34m=\u001b[0m\u001b[0mskipna\u001b[0m\u001b[0;34m,\u001b[0m \u001b[0;34m**\u001b[0m\u001b[0mkwds\u001b[0m\u001b[0;34m)\u001b[0m\u001b[0;34m\u001b[0m\u001b[0;34m\u001b[0m\u001b[0m\n\u001b[0m\u001b[1;32m   3631\u001b[0m \u001b[0;34m\u001b[0m\u001b[0m\n\u001b[1;32m   3632\u001b[0m         \u001b[0;31m# TODO(EA) dispatch to Index\u001b[0m\u001b[0;34m\u001b[0m\u001b[0;34m\u001b[0m\u001b[0;34m\u001b[0m\u001b[0m\n",
      "\u001b[0;32m~/anaconda/envs/nlu/lib/python3.7/site-packages/pandas/core/nanops.py\u001b[0m in \u001b[0;36mf\u001b[0;34m(values, axis, skipna, **kwds)\u001b[0m\n\u001b[1;32m    128\u001b[0m             \u001b[0;32mexcept\u001b[0m \u001b[0mException\u001b[0m\u001b[0;34m:\u001b[0m\u001b[0;34m\u001b[0m\u001b[0;34m\u001b[0m\u001b[0m\n\u001b[1;32m    129\u001b[0m                 \u001b[0;32mtry\u001b[0m\u001b[0;34m:\u001b[0m\u001b[0;34m\u001b[0m\u001b[0;34m\u001b[0m\u001b[0m\n\u001b[0;32m--> 130\u001b[0;31m                     \u001b[0mresult\u001b[0m \u001b[0;34m=\u001b[0m \u001b[0malt\u001b[0m\u001b[0;34m(\u001b[0m\u001b[0mvalues\u001b[0m\u001b[0;34m,\u001b[0m \u001b[0maxis\u001b[0m\u001b[0;34m=\u001b[0m\u001b[0maxis\u001b[0m\u001b[0;34m,\u001b[0m \u001b[0mskipna\u001b[0m\u001b[0;34m=\u001b[0m\u001b[0mskipna\u001b[0m\u001b[0;34m,\u001b[0m \u001b[0;34m**\u001b[0m\u001b[0mkwds\u001b[0m\u001b[0;34m)\u001b[0m\u001b[0;34m\u001b[0m\u001b[0;34m\u001b[0m\u001b[0m\n\u001b[0m\u001b[1;32m    131\u001b[0m                 \u001b[0;32mexcept\u001b[0m \u001b[0mValueError\u001b[0m \u001b[0;32mas\u001b[0m \u001b[0me\u001b[0m\u001b[0;34m:\u001b[0m\u001b[0;34m\u001b[0m\u001b[0;34m\u001b[0m\u001b[0m\n\u001b[1;32m    132\u001b[0m                     \u001b[0;31m# we want to transform an object array\u001b[0m\u001b[0;34m\u001b[0m\u001b[0;34m\u001b[0m\u001b[0;34m\u001b[0m\u001b[0m\n",
      "\u001b[0;32m~/anaconda/envs/nlu/lib/python3.7/site-packages/pandas/core/nanops.py\u001b[0m in \u001b[0;36mreduction\u001b[0;34m(values, axis, skipna, mask)\u001b[0m\n\u001b[1;32m    740\u001b[0m                 \u001b[0mresult\u001b[0m \u001b[0;34m=\u001b[0m \u001b[0mnp\u001b[0m\u001b[0;34m.\u001b[0m\u001b[0mnan\u001b[0m\u001b[0;34m\u001b[0m\u001b[0;34m\u001b[0m\u001b[0m\n\u001b[1;32m    741\u001b[0m         \u001b[0;32melse\u001b[0m\u001b[0;34m:\u001b[0m\u001b[0;34m\u001b[0m\u001b[0;34m\u001b[0m\u001b[0m\n\u001b[0;32m--> 742\u001b[0;31m             \u001b[0mresult\u001b[0m \u001b[0;34m=\u001b[0m \u001b[0mgetattr\u001b[0m\u001b[0;34m(\u001b[0m\u001b[0mvalues\u001b[0m\u001b[0;34m,\u001b[0m \u001b[0mmeth\u001b[0m\u001b[0;34m)\u001b[0m\u001b[0;34m(\u001b[0m\u001b[0maxis\u001b[0m\u001b[0;34m)\u001b[0m\u001b[0;34m\u001b[0m\u001b[0;34m\u001b[0m\u001b[0m\n\u001b[0m\u001b[1;32m    743\u001b[0m \u001b[0;34m\u001b[0m\u001b[0m\n\u001b[1;32m    744\u001b[0m         \u001b[0mresult\u001b[0m \u001b[0;34m=\u001b[0m \u001b[0m_wrap_results\u001b[0m\u001b[0;34m(\u001b[0m\u001b[0mresult\u001b[0m\u001b[0;34m,\u001b[0m \u001b[0mdtype\u001b[0m\u001b[0;34m,\u001b[0m \u001b[0mfill_value\u001b[0m\u001b[0;34m)\u001b[0m\u001b[0;34m\u001b[0m\u001b[0;34m\u001b[0m\u001b[0m\n",
      "\u001b[0;32m~/anaconda/envs/nlu/lib/python3.7/site-packages/numpy/core/_methods.py\u001b[0m in \u001b[0;36m_amax\u001b[0;34m(a, axis, out, keepdims, initial)\u001b[0m\n\u001b[1;32m     26\u001b[0m def _amax(a, axis=None, out=None, keepdims=False,\n\u001b[1;32m     27\u001b[0m           initial=_NoValue):\n\u001b[0;32m---> 28\u001b[0;31m     \u001b[0;32mreturn\u001b[0m \u001b[0mumr_maximum\u001b[0m\u001b[0;34m(\u001b[0m\u001b[0ma\u001b[0m\u001b[0;34m,\u001b[0m \u001b[0maxis\u001b[0m\u001b[0;34m,\u001b[0m \u001b[0;32mNone\u001b[0m\u001b[0;34m,\u001b[0m \u001b[0mout\u001b[0m\u001b[0;34m,\u001b[0m \u001b[0mkeepdims\u001b[0m\u001b[0;34m,\u001b[0m \u001b[0minitial\u001b[0m\u001b[0;34m)\u001b[0m\u001b[0;34m\u001b[0m\u001b[0;34m\u001b[0m\u001b[0m\n\u001b[0m\u001b[1;32m     29\u001b[0m \u001b[0;34m\u001b[0m\u001b[0m\n\u001b[1;32m     30\u001b[0m def _amin(a, axis=None, out=None, keepdims=False,\n",
      "\u001b[0;31mTypeError\u001b[0m: '>=' not supported between instances of 'int' and 'str'"
     ]
    }
   ],
   "source": [
    "train_df['label'].hist(bins=train_df['label'].max())"
   ]
  },
  {
   "cell_type": "markdown",
   "metadata": {},
   "source": [
    "## 데이터 전처리"
   ]
  },
  {
   "cell_type": "code",
   "execution_count": 63,
   "metadata": {},
   "outputs": [
    {
     "data": {
      "text/plain": [
       "' 초보 외부 클래스 멤버 변수 사용 질문합니다.ㅠ'"
      ]
     },
     "execution_count": 63,
     "metadata": {},
     "output_type": "execute_result"
    }
   ],
   "source": [
    "re.sub(r'[$]', r'', \"$$$ 초보 외부 클래스 멤버 변수 사용 질문합니다.ㅠ\")"
   ]
  },
  {
   "cell_type": "code",
   "execution_count": 61,
   "metadata": {},
   "outputs": [
    {
     "data": {
      "text/plain": [
       "'== NaN; == Number.NaN; 해봤는데 둘다 true로만 나와요.'"
      ]
     },
     "execution_count": 61,
     "metadata": {},
     "output_type": "execute_result"
    }
   ],
   "source": [
    "re.sub(r'\\n', r'', \"== NaN;\\n == Number.NaN;\\n 해봤는데 둘다 true로만 나와요.\")"
   ]
  },
  {
   "cell_type": "code",
   "execution_count": 93,
   "metadata": {},
   "outputs": [
    {
     "data": {
      "text/html": [
       "<div>\n",
       "<style scoped>\n",
       "    .dataframe tbody tr th:only-of-type {\n",
       "        vertical-align: middle;\n",
       "    }\n",
       "\n",
       "    .dataframe tbody tr th {\n",
       "        vertical-align: top;\n",
       "    }\n",
       "\n",
       "    .dataframe thead th {\n",
       "        text-align: right;\n",
       "    }\n",
       "</style>\n",
       "<table border=\"1\" class=\"dataframe\">\n",
       "  <thead>\n",
       "    <tr style=\"text-align: right;\">\n",
       "      <th></th>\n",
       "      <th>title</th>\n",
       "      <th>content</th>\n",
       "      <th>label</th>\n",
       "    </tr>\n",
       "  </thead>\n",
       "  <tbody>\n",
       "    <tr>\n",
       "      <th>0</th>\n",
       "      <td>wait()과 sleep()의 차이점은 뭔가요</td>\n",
       "      <td>발생하는 문제 및 실행환경wait()과 sleep()의 차이점은 뭔가요</td>\n",
       "      <td>3</td>\n",
       "    </tr>\n",
       "    <tr>\n",
       "      <th>1</th>\n",
       "      <td>초보 외부 클래스 멤버 변수 사용 질문합니다.ㅠㅠ</td>\n",
       "      <td>1.헤더에, 사용할 멤버변수가 담긴 헤더 파일이 Include 되어있습니다.예를 들...</td>\n",
       "      <td>2</td>\n",
       "    </tr>\n",
       "    <tr>\n",
       "      <th>2</th>\n",
       "      <td>ORM: Sequelize: 다대다 관계 쿼리</td>\n",
       "      <td>안녕하세요.어떻게 다대다 관계 쿼리를 해야하나요? 예를들어, product, cat...</td>\n",
       "      <td>4</td>\n",
       "    </tr>\n",
       "    <tr>\n",
       "      <th>3</th>\n",
       "      <td>에서 숫자가 NaN인지 검사하려면 어떻게해야하죠?</td>\n",
       "      <td>parseFloat('geoff') == NaN;parseFloat('geoff')...</td>\n",
       "      <td>4</td>\n",
       "    </tr>\n",
       "    <tr>\n",
       "      <th>4</th>\n",
       "      <td>2.7에서 중국어, 특수문자 인코딩 하는 방법이 뭔가요?</td>\n",
       "      <td>&gt;&gt;&gt;dict['name']胡安·马塔&gt;&gt;&gt;json.dumps(dict['name']...</td>\n",
       "      <td>5</td>\n",
       "    </tr>\n",
       "    <tr>\n",
       "      <th>5</th>\n",
       "      <td>으로 탐색기 시작위치 변경하고싶습니다.</td>\n",
       "      <td>으로 코딩중인데    def explorer():     subprocess.cal...</td>\n",
       "      <td>5</td>\n",
       "    </tr>\n",
       "    <tr>\n",
       "      <th>6</th>\n",
       "      <td>웹 개발 하고 있습니다. 실무에서 lombok 사용하나요?</td>\n",
       "      <td>으로 웹 개발 하고 있습니다.회사에서는 사수가 주는 코트만 수정중이라...개인적으로...</td>\n",
       "      <td>3</td>\n",
       "    </tr>\n",
       "    <tr>\n",
       "      <th>7</th>\n",
       "      <td>express에서 특정 단추를 눌렀을 때, mysql 데이터를 수정한 후, 수정된 ...</td>\n",
       "      <td>main.jsapp.post('/count', function(req, res){v...</td>\n",
       "      <td>4</td>\n",
       "    </tr>\n",
       "    <tr>\n",
       "      <th>8</th>\n",
       "      <td>텍스트 파일을 읽어와서 내림차순 혹은 오름차순으로 정리하고 다시 파일로 출력</td>\n",
       "      <td>9 김철수 7210 박재용 791 나영희 343 이나연 46이런식으로 되어있는 텍스...</td>\n",
       "      <td>3</td>\n",
       "    </tr>\n",
       "    <tr>\n",
       "      <th>9</th>\n",
       "      <td>클래스 변수에 대해 궁금합니다</td>\n",
       "      <td>Class Dog :    name = str()    trick = []A = D...</td>\n",
       "      <td>5</td>\n",
       "    </tr>\n",
       "    <tr>\n",
       "      <th>10</th>\n",
       "      <td>순서정리 오류 질문</td>\n",
       "      <td>// include &lt;stdio.h&gt;include &lt;stdlib.h&gt;include ...</td>\n",
       "      <td>1</td>\n",
       "    </tr>\n",
       "    <tr>\n",
       "      <th>11</th>\n",
       "      <td>함수에 있는 변수 값을 밖으로 빼서, 다른파일에 import 하려 합니다.</td>\n",
       "      <td>안녕하세요. 간단히 설명하자면, control.의 input()함수에 있는 변수값k...</td>\n",
       "      <td>5</td>\n",
       "    </tr>\n",
       "    <tr>\n",
       "      <th>12</th>\n",
       "      <td>배열 이름이랑 배열의 주소가 같은건 왜죠?</td>\n",
       "      <td>발생하는 문제 및 실행환경배열 이름이랑 배열 주소가 같길래포인터가 배열을 가리키게 ...</td>\n",
       "      <td>1</td>\n",
       "    </tr>\n",
       "    <tr>\n",
       "      <th>13</th>\n",
       "      <td>를 배우하는 학생입니다.</td>\n",
       "      <td>현재 제가 풀고 있는 문제입니다.[https://noj.am/4344][1]incl...</td>\n",
       "      <td>1</td>\n",
       "    </tr>\n",
       "    <tr>\n",
       "      <th>14</th>\n",
       "      <td>null 예외처리를 깔끔하게 하는 법</td>\n",
       "      <td>발생하는 문제 및 실행환경보통 코드를 짜다보면                 if (...</td>\n",
       "      <td>3</td>\n",
       "    </tr>\n",
       "    <tr>\n",
       "      <th>15</th>\n",
       "      <td>레이블이나 텍스트박스에 DB에서 select한 값을 출력하려면 어떻게 해야하나요?</td>\n",
       "      <td>@Override public void actionPerformed(ActionEv...</td>\n",
       "      <td>3</td>\n",
       "    </tr>\n",
       "    <tr>\n",
       "      <th>16</th>\n",
       "      <td>배열이름 질문합니다.</td>\n",
       "      <td>안녕하세요. 를 공부하고 있는 학생입니다. 배열이름에 관해서 궁금증이 생겼는데.in...</td>\n",
       "      <td>1</td>\n",
       "    </tr>\n",
       "    <tr>\n",
       "      <th>17</th>\n",
       "      <td>반복문 작성</td>\n",
       "      <td>(\".list a:nth-child(1)\").mouseover(function(){...</td>\n",
       "      <td>4</td>\n",
       "    </tr>\n",
       "    <tr>\n",
       "      <th>18</th>\n",
       "      <td>벡터에 레퍼런스를 저장하려면?</td>\n",
       "      <td>std::vector&lt;int &amp;&gt; hello;같이 int의 레퍼런스를 저장하려고 하...</td>\n",
       "      <td>2</td>\n",
       "    </tr>\n",
       "    <tr>\n",
       "      <th>19</th>\n",
       "      <td>이분검색-low,high 두값을 파라미터만 받아 재귀로 구현</td>\n",
       "      <td>include&lt;stdio.h&gt;int location(int low,int high)...</td>\n",
       "      <td>1</td>\n",
       "    </tr>\n",
       "    <tr>\n",
       "      <th>20</th>\n",
       "      <td>()를 사용해서 웹사이트를 만들려고 합니다.</td>\n",
       "      <td>안녕하세요. 웹사이트(웹서비스)를 만들기 위해 도움을 얻고자 가입하게 되었습니다전 ...</td>\n",
       "      <td>5</td>\n",
       "    </tr>\n",
       "    <tr>\n",
       "      <th>21</th>\n",
       "      <td>ArrayList와 Vector의 차이는 뭔가요?</td>\n",
       "      <td>ArrayList와 Vector 두 자료구조 사이의 차이는 뭔가요? 각각 어디에 사...</td>\n",
       "      <td>3</td>\n",
       "    </tr>\n",
       "    <tr>\n",
       "      <th>22</th>\n",
       "      <td>으로 표현한 다익스트라 알고리즘 코드 예시가 이해가 안되서 질문드립니다.</td>\n",
       "      <td>![이미지][1]//여기에 코드를 입력하세요graph = {}graph[\"start...</td>\n",
       "      <td>5</td>\n",
       "    </tr>\n",
       "    <tr>\n",
       "      <th>23</th>\n",
       "      <td>에서 string비교는 어떻게 하나요?</td>\n",
       "      <td>에서 string비교는 어떻게 하나요?저는 지금까지 string을 비교할 때 == ...</td>\n",
       "      <td>3</td>\n",
       "    </tr>\n",
       "    <tr>\n",
       "      <th>24</th>\n",
       "      <td>mongodb에서 subDocument에 대한 find 쿼리는 어떻게 하나요?</td>\n",
       "      <td>var subSchema = mongoose.Schema({  main:Numbe...</td>\n",
       "      <td>4</td>\n",
       "    </tr>\n",
       "    <tr>\n",
       "      <th>25</th>\n",
       "      <td>딕셔너리 값으로 문장을 만들려면 어떻게해야하나요?</td>\n",
       "      <td>dic = {'H':1, 'e':1, 'l':3, 'o':2, '':1, 'w':1...</td>\n",
       "      <td>5</td>\n",
       "    </tr>\n",
       "    <tr>\n",
       "      <th>26</th>\n",
       "      <td>컴파일 관련 또다시 드려서 죄송합니다.</td>\n",
       "      <td>http://www.2s.com/Code/API/x.tools/ToolrunInpu...</td>\n",
       "      <td>3</td>\n",
       "    </tr>\n",
       "    <tr>\n",
       "      <th>27</th>\n",
       "      <td>간단한  Array 질문입니다!</td>\n",
       "      <td>밑의 코드가 실행되지 않는 이유는 뭔가요?원래 i에 할당된 값이 없어서 새로 할당한...</td>\n",
       "      <td>3</td>\n",
       "    </tr>\n",
       "    <tr>\n",
       "      <th>28</th>\n",
       "      <td>[ 크롤링] 결과 값을 엑셀파일에 누적해서 저장하고 싶은데, 어떻게 해야할까요??</td>\n",
       "      <td>웹 페이지 크롤링을 했는데, 이 결과를 엑셀로 저장하고 싶습니다..여러 방법으로 시...</td>\n",
       "      <td>5</td>\n",
       "    </tr>\n",
       "    <tr>\n",
       "      <th>29</th>\n",
       "      <td>윈도우 프로그램 개발, 값 전달</td>\n",
       "      <td>-Window program Making-==test.==import os os.s...</td>\n",
       "      <td>5</td>\n",
       "    </tr>\n",
       "    <tr>\n",
       "      <th>30</th>\n",
       "      <td>배열 중복 숫자 제거 문제 뭐가 문제일 까요..</td>\n",
       "      <td>int arr2;int SIZE2;cout &lt;&lt; \"Enter array si...</td>\n",
       "      <td>2</td>\n",
       "    </tr>\n",
       "    <tr>\n",
       "      <th>31</th>\n",
       "      <td>부모 클래스의 소멸자를 꼭 불러줘야 하나요?</td>\n",
       "      <td>클래스에서 가상 소멸자를 overriding하고 있는데요소멸자 안에 부모 클래스의...</td>\n",
       "      <td>2</td>\n",
       "    </tr>\n",
       "    <tr>\n",
       "      <th>32</th>\n",
       "      <td>) 리스트 정렬 관련해서 질문합니다.</td>\n",
       "      <td>numbers = [1, 2, 3, 4, 5, 6, 7, 8, 9]output = ...</td>\n",
       "      <td>5</td>\n",
       "    </tr>\n",
       "    <tr>\n",
       "      <th>33</th>\n",
       "      <td>라이브러리 질문 있습니다.</td>\n",
       "      <td>를 공부할때라이브러리 중에 Library와 jQuery가 있더라구요.Kahnacad...</td>\n",
       "      <td>4</td>\n",
       "    </tr>\n",
       "    <tr>\n",
       "      <th>34</th>\n",
       "      <td>()API 와 JSON 파싱 관련 질문입니다.</td>\n",
       "      <td>{    \"success\": true,    \"message\": null,    \"...</td>\n",
       "      <td>3</td>\n",
       "    </tr>\n",
       "    <tr>\n",
       "      <th>35</th>\n",
       "      <td>선택등록 기능 추가후 등록시 Data too long for column에러가 뜨는...</td>\n",
       "      <td>감사합니다</td>\n",
       "      <td>3</td>\n",
       "    </tr>\n",
       "    <tr>\n",
       "      <th>36</th>\n",
       "      <td>date를 datetime으로 변환하려면?</td>\n",
       "      <td>datetime은 datetime.date()를 써서 time형으로 바꿔줄 수 있는...</td>\n",
       "      <td>5</td>\n",
       "    </tr>\n",
       "    <tr>\n",
       "      <th>37</th>\n",
       "      <td>2진수를 8진수로 변환하는 코드 뭐가 문제일까요?</td>\n",
       "      <td>include &lt;iostream&gt;include &lt;algorithm&gt;include &lt;...</td>\n",
       "      <td>2</td>\n",
       "    </tr>\n",
       "    <tr>\n",
       "      <th>38</th>\n",
       "      <td>에서 ==랑 ===의 차이가 뭔가요?</td>\n",
       "      <td>를 쓰고 있는데 다른 사람들이 작성한 코드를 참고하면서 공부를 하는데 ==말고도 =...</td>\n",
       "      <td>4</td>\n",
       "    </tr>\n",
       "    <tr>\n",
       "      <th>39</th>\n",
       "      <td>node.js callback 함수 질문입니다.</td>\n",
       "      <td>var i = 0;function a(callback){    i +=1;    c...</td>\n",
       "      <td>4</td>\n",
       "    </tr>\n",
       "    <tr>\n",
       "      <th>40</th>\n",
       "      <td>이클립스 설치 질문</td>\n",
       "      <td>이클립스를 노트북에 설치할려고 하는데 가 인식이 안된다고 뜨네요 ㅜ뭘 해야 이클립스...</td>\n",
       "      <td>3</td>\n",
       "    </tr>\n",
       "    <tr>\n",
       "      <th>41</th>\n",
       "      <td>return값은 두개인데 plot그림은 한개밖에 없어요</td>\n",
       "      <td>import matplotlib.pyplot as pltdecisionNode = ...</td>\n",
       "      <td>5</td>\n",
       "    </tr>\n",
       "    <tr>\n",
       "      <th>42</th>\n",
       "      <td>이미지 업로드에 관한 질문입니다.</td>\n",
       "      <td>![이미지 선택시 화면][1]  [1]: http://res.cloudinary.c...</td>\n",
       "      <td>5</td>\n",
       "    </tr>\n",
       "    <tr>\n",
       "      <th>43</th>\n",
       "      <td>리스트 한글,영어 정렬</td>\n",
       "      <td>리스트를 정렬 할 때, 영어가 먼저 오게 되는데, 한글이 먼저 오게 하는 방법이 ...</td>\n",
       "      <td>5</td>\n",
       "    </tr>\n",
       "    <tr>\n",
       "      <th>44</th>\n",
       "      <td>에서 객체를 복사하는법</td>\n",
       "      <td>DummyBean dum = new DummyBean();dum.setDummy(\"...</td>\n",
       "      <td>3</td>\n",
       "    </tr>\n",
       "    <tr>\n",
       "      <th>45</th>\n",
       "      <td>beutifulsoup 크롤링 중 데이터를 받아오지 못합니다. selenium 이...</td>\n",
       "      <td>https://mensaar.de//menu/sb위의 웹페이지에서 식단 데이터를 가...</td>\n",
       "      <td>5</td>\n",
       "    </tr>\n",
       "    <tr>\n",
       "      <th>46</th>\n",
       "      <td>로 부분집합(멱집합) 구상하기 중 질문드립니다 !</td>\n",
       "      <td>![이미지][1]![이미지][2]![이미지][3]![이미지][4]  [1]: htt...</td>\n",
       "      <td>1</td>\n",
       "    </tr>\n",
       "    <tr>\n",
       "      <th>47</th>\n",
       "      <td>파이어베이스(firebase) 쿼리 질문입니다..ㅜㅜ</td>\n",
       "      <td>\"posts_jp\" : {    \"-KadvRpxnZOYiH0nuE7r\" : {  ...</td>\n",
       "      <td>4</td>\n",
       "    </tr>\n",
       "    <tr>\n",
       "      <th>48</th>\n",
       "      <td>안드로이드 구글 맵 api 실행하자마자 현재 위치로 줌하기</td>\n",
       "      <td>현제 안드로이드로 구글 맵 api를 사용해서 어플실행하자마자 현재 위치로 줌하는 기...</td>\n",
       "      <td>3</td>\n",
       "    </tr>\n",
       "    <tr>\n",
       "      <th>49</th>\n",
       "      <td>문자열 포인터 질문</td>\n",
       "      <td>두 코드의 차이점이 궁금합니다.1.include &lt;stdio.h&gt;include &lt;s...</td>\n",
       "      <td>1</td>\n",
       "    </tr>\n",
       "  </tbody>\n",
       "</table>\n",
       "</div>"
      ],
      "text/plain": [
       "                                                title  \\\n",
       "0                           wait()과 sleep()의 차이점은 뭔가요   \n",
       "1                         초보 외부 클래스 멤버 변수 사용 질문합니다.ㅠㅠ   \n",
       "2                           ORM: Sequelize: 다대다 관계 쿼리   \n",
       "3                         에서 숫자가 NaN인지 검사하려면 어떻게해야하죠?   \n",
       "4                     2.7에서 중국어, 특수문자 인코딩 하는 방법이 뭔가요?   \n",
       "5                               으로 탐색기 시작위치 변경하고싶습니다.   \n",
       "6                    웹 개발 하고 있습니다. 실무에서 lombok 사용하나요?   \n",
       "7   express에서 특정 단추를 눌렀을 때, mysql 데이터를 수정한 후, 수정된 ...   \n",
       "8          텍스트 파일을 읽어와서 내림차순 혹은 오름차순으로 정리하고 다시 파일로 출력   \n",
       "9                                    클래스 변수에 대해 궁금합니다   \n",
       "10                                         순서정리 오류 질문   \n",
       "11          함수에 있는 변수 값을 밖으로 빼서, 다른파일에 import 하려 합니다.   \n",
       "12                            배열 이름이랑 배열의 주소가 같은건 왜죠?   \n",
       "13                                      를 배우하는 학생입니다.   \n",
       "14                               null 예외처리를 깔끔하게 하는 법   \n",
       "15      레이블이나 텍스트박스에 DB에서 select한 값을 출력하려면 어떻게 해야하나요?   \n",
       "16                                        배열이름 질문합니다.   \n",
       "17                                             반복문 작성   \n",
       "18                                   벡터에 레퍼런스를 저장하려면?   \n",
       "19                  이분검색-low,high 두값을 파라미터만 받아 재귀로 구현   \n",
       "20                           ()를 사용해서 웹사이트를 만들려고 합니다.   \n",
       "21                        ArrayList와 Vector의 차이는 뭔가요?   \n",
       "22           으로 표현한 다익스트라 알고리즘 코드 예시가 이해가 안되서 질문드립니다.   \n",
       "23                              에서 string비교는 어떻게 하나요?   \n",
       "24        mongodb에서 subDocument에 대한 find 쿼리는 어떻게 하나요?   \n",
       "25                        딕셔너리 값으로 문장을 만들려면 어떻게해야하나요?   \n",
       "26                              컴파일 관련 또다시 드려서 죄송합니다.   \n",
       "27                                  간단한  Array 질문입니다!   \n",
       "28      [ 크롤링] 결과 값을 엑셀파일에 누적해서 저장하고 싶은데, 어떻게 해야할까요??   \n",
       "29                                  윈도우 프로그램 개발, 값 전달   \n",
       "30                         배열 중복 숫자 제거 문제 뭐가 문제일 까요..   \n",
       "31                           부모 클래스의 소멸자를 꼭 불러줘야 하나요?   \n",
       "32                               ) 리스트 정렬 관련해서 질문합니다.   \n",
       "33                                     라이브러리 질문 있습니다.   \n",
       "34                          ()API 와 JSON 파싱 관련 질문입니다.   \n",
       "35  선택등록 기능 추가후 등록시 Data too long for column에러가 뜨는...   \n",
       "36                            date를 datetime으로 변환하려면?   \n",
       "37                        2진수를 8진수로 변환하는 코드 뭐가 문제일까요?   \n",
       "38                               에서 ==랑 ===의 차이가 뭔가요?   \n",
       "39                         node.js callback 함수 질문입니다.   \n",
       "40                                         이클립스 설치 질문   \n",
       "41                     return값은 두개인데 plot그림은 한개밖에 없어요   \n",
       "42                                 이미지 업로드에 관한 질문입니다.   \n",
       "43                                       리스트 한글,영어 정렬   \n",
       "44                                       에서 객체를 복사하는법   \n",
       "45   beutifulsoup 크롤링 중 데이터를 받아오지 못합니다. selenium 이...   \n",
       "46                        로 부분집합(멱집합) 구상하기 중 질문드립니다 !   \n",
       "47                      파이어베이스(firebase) 쿼리 질문입니다..ㅜㅜ   \n",
       "48                   안드로이드 구글 맵 api 실행하자마자 현재 위치로 줌하기   \n",
       "49                                         문자열 포인터 질문   \n",
       "\n",
       "                                              content label  \n",
       "0             발생하는 문제 및 실행환경wait()과 sleep()의 차이점은 뭔가요     3  \n",
       "1   1.헤더에, 사용할 멤버변수가 담긴 헤더 파일이 Include 되어있습니다.예를 들...     2  \n",
       "2   안녕하세요.어떻게 다대다 관계 쿼리를 해야하나요? 예를들어, product, cat...     4  \n",
       "3   parseFloat('geoff') == NaN;parseFloat('geoff')...     4  \n",
       "4   >>>dict['name']胡安·马塔>>>json.dumps(dict['name']...     5  \n",
       "5   으로 코딩중인데    def explorer():     subprocess.cal...     5  \n",
       "6   으로 웹 개발 하고 있습니다.회사에서는 사수가 주는 코트만 수정중이라...개인적으로...     3  \n",
       "7   main.jsapp.post('/count', function(req, res){v...     4  \n",
       "8   9 김철수 7210 박재용 791 나영희 343 이나연 46이런식으로 되어있는 텍스...     3  \n",
       "9   Class Dog :    name = str()    trick = []A = D...     5  \n",
       "10  // include <stdio.h>include <stdlib.h>include ...     1  \n",
       "11  안녕하세요. 간단히 설명하자면, control.의 input()함수에 있는 변수값k...     5  \n",
       "12  발생하는 문제 및 실행환경배열 이름이랑 배열 주소가 같길래포인터가 배열을 가리키게 ...     1  \n",
       "13  현재 제가 풀고 있는 문제입니다.[https://noj.am/4344][1]incl...     1  \n",
       "14  발생하는 문제 및 실행환경보통 코드를 짜다보면                 if (...     3  \n",
       "15  @Override public void actionPerformed(ActionEv...     3  \n",
       "16  안녕하세요. 를 공부하고 있는 학생입니다. 배열이름에 관해서 궁금증이 생겼는데.in...     1  \n",
       "17  (\".list a:nth-child(1)\").mouseover(function(){...     4  \n",
       "18  std::vector<int &> hello;같이 int의 레퍼런스를 저장하려고 하...     2  \n",
       "19  include<stdio.h>int location(int low,int high)...     1  \n",
       "20  안녕하세요. 웹사이트(웹서비스)를 만들기 위해 도움을 얻고자 가입하게 되었습니다전 ...     5  \n",
       "21  ArrayList와 Vector 두 자료구조 사이의 차이는 뭔가요? 각각 어디에 사...     3  \n",
       "22  ![이미지][1]//여기에 코드를 입력하세요graph = {}graph[\"start...     5  \n",
       "23  에서 string비교는 어떻게 하나요?저는 지금까지 string을 비교할 때 == ...     3  \n",
       "24   var subSchema = mongoose.Schema({  main:Numbe...     4  \n",
       "25  dic = {'H':1, 'e':1, 'l':3, 'o':2, '':1, 'w':1...     5  \n",
       "26  http://www.2s.com/Code/API/x.tools/ToolrunInpu...     3  \n",
       "27  밑의 코드가 실행되지 않는 이유는 뭔가요?원래 i에 할당된 값이 없어서 새로 할당한...     3  \n",
       "28  웹 페이지 크롤링을 했는데, 이 결과를 엑셀로 저장하고 싶습니다..여러 방법으로 시...     5  \n",
       "29  -Window program Making-==test.==import os os.s...     5  \n",
       "30      int arr2;int SIZE2;cout << \"Enter array si...     2  \n",
       "31   클래스에서 가상 소멸자를 overriding하고 있는데요소멸자 안에 부모 클래스의...     2  \n",
       "32  numbers = [1, 2, 3, 4, 5, 6, 7, 8, 9]output = ...     5  \n",
       "33  를 공부할때라이브러리 중에 Library와 jQuery가 있더라구요.Kahnacad...     4  \n",
       "34  {    \"success\": true,    \"message\": null,    \"...     3  \n",
       "35                                              감사합니다     3  \n",
       "36  datetime은 datetime.date()를 써서 time형으로 바꿔줄 수 있는...     5  \n",
       "37  include <iostream>include <algorithm>include <...     2  \n",
       "38  를 쓰고 있는데 다른 사람들이 작성한 코드를 참고하면서 공부를 하는데 ==말고도 =...     4  \n",
       "39  var i = 0;function a(callback){    i +=1;    c...     4  \n",
       "40  이클립스를 노트북에 설치할려고 하는데 가 인식이 안된다고 뜨네요 ㅜ뭘 해야 이클립스...     3  \n",
       "41  import matplotlib.pyplot as pltdecisionNode = ...     5  \n",
       "42  ![이미지 선택시 화면][1]  [1]: http://res.cloudinary.c...     5  \n",
       "43   리스트를 정렬 할 때, 영어가 먼저 오게 되는데, 한글이 먼저 오게 하는 방법이 ...     5  \n",
       "44  DummyBean dum = new DummyBean();dum.setDummy(\"...     3  \n",
       "45  https://mensaar.de//menu/sb위의 웹페이지에서 식단 데이터를 가...     5  \n",
       "46  ![이미지][1]![이미지][2]![이미지][3]![이미지][4]  [1]: htt...     1  \n",
       "47  \"posts_jp\" : {    \"-KadvRpxnZOYiH0nuE7r\" : {  ...     4  \n",
       "48  현제 안드로이드로 구글 맵 api를 사용해서 어플실행하자마자 현재 위치로 줌하는 기...     3  \n",
       "49  두 코드의 차이점이 궁금합니다.1.include <stdio.h>include <s...     1  "
      ]
     },
     "execution_count": 93,
     "metadata": {},
     "output_type": "execute_result"
    }
   ],
   "source": [
    "def cleansing_text(text):\n",
    "    \n",
    "    try:\n",
    "        text = re.sub(r'[#$`\\n\\t*]', r'', text)\n",
    "    except:\n",
    "        pass\n",
    "    return text\n",
    "\n",
    "train_df['title'] = train_df['title'].map(lambda text: cleansing_text(text))\n",
    "train_df['content'] = train_df['content'].map(lambda text: cleansing_text(text))\n",
    "\n",
    "train_df.head(50)"
   ]
  },
  {
   "cell_type": "code",
   "execution_count": 81,
   "metadata": {},
   "outputs": [],
   "source": [
    "from __future__ import division\n",
    "from pprint import pprint\n",
    "import _pickle as cPickle\n",
    "\n",
    "from gensim.models import Doc2Vec, Phrases\n",
    "from gensim.models.doc2vec import LabeledSentence\n",
    "from gensim.matutils import unitvec\n",
    "import numpy as np\n",
    "from numpy import dot\n",
    "import pandas as pd\n",
    "from random import shuffle\n",
    "from collections import Counter\n",
    "\n",
    "from gensim.parsing.preprocessing import STOPWORDS as stop_words\n",
    "letters = list('abcdefghijklmnopqrstuvwxyz')\n",
    "numbers = list('123456789')\n",
    "stop_words = stop_words.union(set(letters)).union(set(numbers))\n",
    "\n",
    "import logging\n",
    "logging.root.handlers = []  # Jupyter messes up logging so needs a reset\n",
    "logging.basicConfig(format='%(asctime)s : %(levelname)s : %(message)s', level=logging.INFO)"
   ]
  },
  {
   "cell_type": "code",
   "execution_count": 96,
   "metadata": {},
   "outputs": [],
   "source": [
    "import string\n",
    "import re\n",
    "RE_PUNCT = re.compile('([%s])+' % re.escape(string.punctuation), re.UNICODE)\n",
    "\n",
    "def preprocess(text):\n",
    "    # Remove all punctuation and make all lowercase \n",
    "    return RE_PUNCT.sub(r\" \", text).lower().split()"
   ]
  },
  {
   "cell_type": "code",
   "execution_count": 100,
   "metadata": {},
   "outputs": [
    {
     "name": "stderr",
     "output_type": "stream",
     "text": [
      "2020-02-02 18:04:22,998 : INFO : collecting all words and their counts\n",
      "2020-02-02 18:04:22,999 : INFO : PROGRESS: at sentence #0, processed 0 words and 0 word types\n",
      "2020-02-02 18:04:23,870 : INFO : collected 231975 word types from a corpus of 309160 words (unigram + bigrams) and 2592 sentences\n",
      "2020-02-02 18:04:23,871 : INFO : using 231975 counts as vocab in Phrases<0 vocab, min_count=5, threshold=10.0, max_vocab_size=40000000>\n",
      "/Users/DongGyun/anaconda/envs/nlu/lib/python3.7/site-packages/ipykernel_launcher.py:6: DeprecationWarning: Call to deprecated `LabeledSentence` (Class will be removed in 4.0.0, use TaggedDocument instead).\n",
      "  \n"
     ]
    }
   ],
   "source": [
    "def make_doc(text, title, drop_stopwords=True):\n",
    "    \"\"\"Make documents into LabeledSentence objects for doc2vec training\"\"\"\n",
    "       \n",
    "    docwords = list(filter(lambda word: word not in stop_words,\n",
    "                      bigram[text]))\n",
    "    return LabeledSentence(docwords, [title])\n",
    "\n",
    "# Train bigrammer to detect two-word phrases, e.g., breaking_bad\n",
    "#bigram = Phrases(map(preprocess, df.rev_text.tolist())) \n",
    "bigram = Phrases(map(preprocess, train_df['content'])) \n",
    "\n",
    "#DOCS = [make_movie_doc(text, title) for text, title in\n",
    "#        zip(df.rev_text.tolist(), df.title.tolist())]\n",
    "DOCS = [make_doc(train_df['content'], train_df['title'] ) for _, row\n",
    "        in train_df.iterrows()]"
   ]
  },
  {
   "cell_type": "code",
   "execution_count": 101,
   "metadata": {},
   "outputs": [
    {
     "name": "stderr",
     "output_type": "stream",
     "text": [
      "/Users/DongGyun/anaconda/envs/nlu/lib/python3.7/site-packages/gensim/models/doc2vec.py:574: UserWarning: The parameter `size` is deprecated, will be removed in 4.0.0, use `vector_size` instead.\n",
      "  warnings.warn(\"The parameter `size` is deprecated, will be removed in 4.0.0, use `vector_size` instead.\")\n",
      "2020-02-02 18:07:38,155 : INFO : collecting all words and their counts\n",
      "2020-02-02 18:07:38,175 : INFO : PROGRESS: at example #0, processed 0 words (0/s), 0 word types, 0 tags\n"
     ]
    },
    {
     "ename": "TypeError",
     "evalue": "'Series' objects are mutable, thus they cannot be hashed",
     "output_type": "error",
     "traceback": [
      "\u001b[0;31m---------------------------------------------------------------------------\u001b[0m",
      "\u001b[0;31mTypeError\u001b[0m                                 Traceback (most recent call last)",
      "\u001b[0;32m<ipython-input-101-9212e8d84b98>\u001b[0m in \u001b[0;36m<module>\u001b[0;34m\u001b[0m\n\u001b[1;32m      2\u001b[0m                 hs=0, sample=1e-4, window=10, size=100, workers=8)\n\u001b[1;32m      3\u001b[0m \u001b[0;34m\u001b[0m\u001b[0m\n\u001b[0;32m----> 4\u001b[0;31m \u001b[0mmodel\u001b[0m\u001b[0;34m.\u001b[0m\u001b[0mbuild_vocab\u001b[0m\u001b[0;34m(\u001b[0m\u001b[0mDOCS\u001b[0m\u001b[0;34m)\u001b[0m\u001b[0;34m\u001b[0m\u001b[0;34m\u001b[0m\u001b[0m\n\u001b[0m\u001b[1;32m      5\u001b[0m \u001b[0mmodel\u001b[0m\u001b[0;34m.\u001b[0m\u001b[0mtrain\u001b[0m\u001b[0;34m(\u001b[0m\u001b[0mDOCS\u001b[0m\u001b[0;34m,\u001b[0m \u001b[0mtotal_examples\u001b[0m\u001b[0;34m=\u001b[0m\u001b[0mmodel\u001b[0m\u001b[0;34m.\u001b[0m\u001b[0mcorpus_count\u001b[0m\u001b[0;34m,\u001b[0m \u001b[0mepochs\u001b[0m\u001b[0;34m=\u001b[0m\u001b[0mmodel\u001b[0m\u001b[0;34m.\u001b[0m\u001b[0miter\u001b[0m\u001b[0;34m)\u001b[0m\u001b[0;34m\u001b[0m\u001b[0;34m\u001b[0m\u001b[0m\n",
      "\u001b[0;32m~/anaconda/envs/nlu/lib/python3.7/site-packages/gensim/models/doc2vec.py\u001b[0m in \u001b[0;36mbuild_vocab\u001b[0;34m(self, documents, corpus_file, update, progress_per, keep_raw_vocab, trim_rule, **kwargs)\u001b[0m\n\u001b[1;32m   1182\u001b[0m         total_words, corpus_count = self.vocabulary.scan_vocab(\n\u001b[1;32m   1183\u001b[0m             \u001b[0mdocuments\u001b[0m\u001b[0;34m=\u001b[0m\u001b[0mdocuments\u001b[0m\u001b[0;34m,\u001b[0m \u001b[0mcorpus_file\u001b[0m\u001b[0;34m=\u001b[0m\u001b[0mcorpus_file\u001b[0m\u001b[0;34m,\u001b[0m \u001b[0mdocvecs\u001b[0m\u001b[0;34m=\u001b[0m\u001b[0mself\u001b[0m\u001b[0;34m.\u001b[0m\u001b[0mdocvecs\u001b[0m\u001b[0;34m,\u001b[0m\u001b[0;34m\u001b[0m\u001b[0;34m\u001b[0m\u001b[0m\n\u001b[0;32m-> 1184\u001b[0;31m             \u001b[0mprogress_per\u001b[0m\u001b[0;34m=\u001b[0m\u001b[0mprogress_per\u001b[0m\u001b[0;34m,\u001b[0m \u001b[0mtrim_rule\u001b[0m\u001b[0;34m=\u001b[0m\u001b[0mtrim_rule\u001b[0m\u001b[0;34m\u001b[0m\u001b[0;34m\u001b[0m\u001b[0m\n\u001b[0m\u001b[1;32m   1185\u001b[0m         )\n\u001b[1;32m   1186\u001b[0m         \u001b[0mself\u001b[0m\u001b[0;34m.\u001b[0m\u001b[0mcorpus_count\u001b[0m \u001b[0;34m=\u001b[0m \u001b[0mcorpus_count\u001b[0m\u001b[0;34m\u001b[0m\u001b[0;34m\u001b[0m\u001b[0m\n",
      "\u001b[0;32m~/anaconda/envs/nlu/lib/python3.7/site-packages/gensim/models/doc2vec.py\u001b[0m in \u001b[0;36mscan_vocab\u001b[0;34m(self, documents, corpus_file, docvecs, progress_per, trim_rule)\u001b[0m\n\u001b[1;32m   1379\u001b[0m             \u001b[0mdocuments\u001b[0m \u001b[0;34m=\u001b[0m \u001b[0mTaggedLineDocument\u001b[0m\u001b[0;34m(\u001b[0m\u001b[0mcorpus_file\u001b[0m\u001b[0;34m)\u001b[0m\u001b[0;34m\u001b[0m\u001b[0;34m\u001b[0m\u001b[0m\n\u001b[1;32m   1380\u001b[0m \u001b[0;34m\u001b[0m\u001b[0m\n\u001b[0;32m-> 1381\u001b[0;31m         \u001b[0mtotal_words\u001b[0m\u001b[0;34m,\u001b[0m \u001b[0mcorpus_count\u001b[0m \u001b[0;34m=\u001b[0m \u001b[0mself\u001b[0m\u001b[0;34m.\u001b[0m\u001b[0m_scan_vocab\u001b[0m\u001b[0;34m(\u001b[0m\u001b[0mdocuments\u001b[0m\u001b[0;34m,\u001b[0m \u001b[0mdocvecs\u001b[0m\u001b[0;34m,\u001b[0m \u001b[0mprogress_per\u001b[0m\u001b[0;34m,\u001b[0m \u001b[0mtrim_rule\u001b[0m\u001b[0;34m)\u001b[0m\u001b[0;34m\u001b[0m\u001b[0;34m\u001b[0m\u001b[0m\n\u001b[0m\u001b[1;32m   1382\u001b[0m \u001b[0;34m\u001b[0m\u001b[0m\n\u001b[1;32m   1383\u001b[0m         logger.info(\n",
      "\u001b[0;32m~/anaconda/envs/nlu/lib/python3.7/site-packages/gensim/models/doc2vec.py\u001b[0m in \u001b[0;36m_scan_vocab\u001b[0;34m(self, documents, docvecs, progress_per, trim_rule)\u001b[0m\n\u001b[1;32m   1326\u001b[0m \u001b[0;34m\u001b[0m\u001b[0m\n\u001b[1;32m   1327\u001b[0m             \u001b[0;32mfor\u001b[0m \u001b[0mtag\u001b[0m \u001b[0;32min\u001b[0m \u001b[0mdocument\u001b[0m\u001b[0;34m.\u001b[0m\u001b[0mtags\u001b[0m\u001b[0;34m:\u001b[0m\u001b[0;34m\u001b[0m\u001b[0;34m\u001b[0m\u001b[0m\n\u001b[0;32m-> 1328\u001b[0;31m                 \u001b[0m_note_doctag\u001b[0m\u001b[0;34m(\u001b[0m\u001b[0mtag\u001b[0m\u001b[0;34m,\u001b[0m \u001b[0mdocument_length\u001b[0m\u001b[0;34m,\u001b[0m \u001b[0mdocvecs\u001b[0m\u001b[0;34m)\u001b[0m\u001b[0;34m\u001b[0m\u001b[0;34m\u001b[0m\u001b[0m\n\u001b[0m\u001b[1;32m   1329\u001b[0m \u001b[0;34m\u001b[0m\u001b[0m\n\u001b[1;32m   1330\u001b[0m             \u001b[0;32mfor\u001b[0m \u001b[0mword\u001b[0m \u001b[0;32min\u001b[0m \u001b[0mdocument\u001b[0m\u001b[0;34m.\u001b[0m\u001b[0mwords\u001b[0m\u001b[0;34m:\u001b[0m\u001b[0;34m\u001b[0m\u001b[0;34m\u001b[0m\u001b[0m\n",
      "\u001b[0;32m~/anaconda/envs/nlu/lib/python3.7/site-packages/gensim/models/doc2vec.py\u001b[0m in \u001b[0;36m_note_doctag\u001b[0;34m(key, document_length, docvecs)\u001b[0m\n\u001b[1;32m   1253\u001b[0m         \u001b[0mdocvecs\u001b[0m\u001b[0;34m.\u001b[0m\u001b[0mmax_rawint\u001b[0m \u001b[0;34m=\u001b[0m \u001b[0mmax\u001b[0m\u001b[0;34m(\u001b[0m\u001b[0mdocvecs\u001b[0m\u001b[0;34m.\u001b[0m\u001b[0mmax_rawint\u001b[0m\u001b[0;34m,\u001b[0m \u001b[0mkey\u001b[0m\u001b[0;34m)\u001b[0m\u001b[0;34m\u001b[0m\u001b[0;34m\u001b[0m\u001b[0m\n\u001b[1;32m   1254\u001b[0m     \u001b[0;32melse\u001b[0m\u001b[0;34m:\u001b[0m\u001b[0;34m\u001b[0m\u001b[0;34m\u001b[0m\u001b[0m\n\u001b[0;32m-> 1255\u001b[0;31m         \u001b[0;32mif\u001b[0m \u001b[0mkey\u001b[0m \u001b[0;32min\u001b[0m \u001b[0mdocvecs\u001b[0m\u001b[0;34m.\u001b[0m\u001b[0mdoctags\u001b[0m\u001b[0;34m:\u001b[0m\u001b[0;34m\u001b[0m\u001b[0;34m\u001b[0m\u001b[0m\n\u001b[0m\u001b[1;32m   1256\u001b[0m             \u001b[0mdocvecs\u001b[0m\u001b[0;34m.\u001b[0m\u001b[0mdoctags\u001b[0m\u001b[0;34m[\u001b[0m\u001b[0mkey\u001b[0m\u001b[0;34m]\u001b[0m \u001b[0;34m=\u001b[0m \u001b[0mdocvecs\u001b[0m\u001b[0;34m.\u001b[0m\u001b[0mdoctags\u001b[0m\u001b[0;34m[\u001b[0m\u001b[0mkey\u001b[0m\u001b[0;34m]\u001b[0m\u001b[0;34m.\u001b[0m\u001b[0mrepeat\u001b[0m\u001b[0;34m(\u001b[0m\u001b[0mdocument_length\u001b[0m\u001b[0;34m)\u001b[0m\u001b[0;34m\u001b[0m\u001b[0;34m\u001b[0m\u001b[0m\n\u001b[1;32m   1257\u001b[0m         \u001b[0;32melse\u001b[0m\u001b[0;34m:\u001b[0m\u001b[0;34m\u001b[0m\u001b[0;34m\u001b[0m\u001b[0m\n",
      "\u001b[0;32m~/anaconda/envs/nlu/lib/python3.7/site-packages/pandas/core/generic.py\u001b[0m in \u001b[0;36m__hash__\u001b[0;34m(self)\u001b[0m\n\u001b[1;32m   1814\u001b[0m     \u001b[0;32mdef\u001b[0m \u001b[0m__hash__\u001b[0m\u001b[0;34m(\u001b[0m\u001b[0mself\u001b[0m\u001b[0;34m)\u001b[0m\u001b[0;34m:\u001b[0m\u001b[0;34m\u001b[0m\u001b[0;34m\u001b[0m\u001b[0m\n\u001b[1;32m   1815\u001b[0m         raise TypeError('{0!r} objects are mutable, thus they cannot be'\n\u001b[0;32m-> 1816\u001b[0;31m                         ' hashed'.format(self.__class__.__name__))\n\u001b[0m\u001b[1;32m   1817\u001b[0m \u001b[0;34m\u001b[0m\u001b[0m\n\u001b[1;32m   1818\u001b[0m     \u001b[0;32mdef\u001b[0m \u001b[0m__iter__\u001b[0m\u001b[0;34m(\u001b[0m\u001b[0mself\u001b[0m\u001b[0;34m)\u001b[0m\u001b[0;34m:\u001b[0m\u001b[0;34m\u001b[0m\u001b[0;34m\u001b[0m\u001b[0m\n",
      "\u001b[0;31mTypeError\u001b[0m: 'Series' objects are mutable, thus they cannot be hashed"
     ]
    }
   ],
   "source": [
    "model = Doc2Vec(dm=0, dbow_words=1, min_count=4, negative=3,\n",
    "                hs=0, sample=1e-4, window=10, size=100, workers=8)\n",
    "\n",
    "model.build_vocab(DOCS)\n",
    "model.train(DOCS, total_examples=model.corpus_count, epochs=model.iter)"
   ]
  },
  {
   "cell_type": "markdown",
   "metadata": {},
   "source": [
    "## Multi-layer bi-LSTM with dropout?\n",
    "\n",
    "* Pytorch의 nn.lstm은 멀티 레이어, 양방향 레이어, dropout을 파라미터로 설정해줄 수 있습니다.\n",
    "* RNN 계열에서 dropout은 [Recurrent Neural Network Regularization](https://arxiv.org/abs/1409.2329) 논문에서 처음으로 잘 동작하도록 사용했다고 합니다. ([관련 블로그 글](http://sanghyukchun.github.io/89/))\n",
    "* 중요한 부분은 아래 option2 그림처럼 multi-layer에서 dropout이 사용되며, dropout은 recurrent connection이 아닌 부분에만 적용해야 하는 것이라고 합니다.\n",
    "\n",
    "* Reference: (https://discuss.pytorch.org/t/lstm-dropout-clarification-of-last-layer/5588)\n",
    "\n",
    "![multi-layer LSTM with dropout](https://discuss.pytorch.org/uploads/default/original/2X/6/62f94ceee433b693ef73be231f51ae4291e53880.png)"
   ]
  },
  {
   "cell_type": "markdown",
   "metadata": {},
   "source": [
    "## 2. CNN Classifier"
   ]
  },
  {
   "cell_type": "markdown",
   "metadata": {},
   "source": [
    "![](http://i.imgur.com/JN72JHW.png)\n",
    "\n",
    "* CNN 텍스트 분류기 구조 ([Yoon Kim(2014)](http://emnlp2014.org/papers/pdf/EMNLP2014181.pdf))\n",
    "\n",
    "* CNN을 사용한 텍스트 분류:\n",
    " * 문장의 단어들을 window 단위로 convolution 하여 feature를 추출한다.\n",
    " \n",
    "저자의 구현은 아래와 같습니다."
   ]
  },
  {
   "cell_type": "code",
   "execution_count": 64,
   "metadata": {},
   "outputs": [],
   "source": [
    "# %load simple-ntc/simple_ntc/cnn.py\n",
    "import torch\n",
    "import torch.nn as nn\n",
    "\n",
    "\n",
    "class CNNClassifier(nn.Module):\n",
    "\n",
    "    def __init__(self,\n",
    "                 input_size,\n",
    "                 word_vec_dim,\n",
    "                 n_classes,\n",
    "                 use_batch_norm=False,\n",
    "                 dropout_p=.5,\n",
    "                 window_sizes=[3, 4, 5],   # 논문에서 가장 좋은 성능을 보여준 window size & n_filters\n",
    "                 n_filters=[100, 100, 100]\n",
    "                 ):\n",
    "        # CNN 파라미터\n",
    "        self.input_size = input_size  # vocabulary size\n",
    "        self.word_vec_dim = word_vec_dim\n",
    "        self.n_classes = n_classes\n",
    "        self.use_batch_norm = use_batch_norm\n",
    "        self.dropout_p = dropout_p\n",
    "        # window_size means that how many words a pattern covers.\n",
    "        self.window_sizes = window_sizes\n",
    "        # n_filters means that how many patterns to cover.\n",
    "        self.n_filters = n_filters\n",
    "\n",
    "        super().__init__()\n",
    "\n",
    "        # CNN 텍스트 분류기 레이어 구조\n",
    "        self.emb = nn.Embedding(input_size, word_vec_dim)\n",
    "        # Since number of convolution layers would be vary depend on len(window_sizes),\n",
    "        # we use 'setattr' and 'getattr' methods to add layers to nn.Module object.\n",
    "        # -> custom layer을 추가(setattr)하고, 불러와 사용하는 것(getattr)\n",
    "        for window_size, n_filter in zip(window_sizes, n_filters):\n",
    "            cnn = nn.Conv2d(in_channels=1,\n",
    "                            out_channels=n_filter,\n",
    "                            kernel_size=(window_size, word_vec_dim)\n",
    "                            )\n",
    "            setattr(self, 'cnn-%d-%d' % (window_size, n_filter), cnn)\n",
    "\n",
    "            # 빠른 학습속도와 regularization 효과가 있는 batch-norm\n",
    "            if use_batch_norm:\n",
    "                bn = nn.BatchNorm2d(n_filter)\n",
    "                setattr(self, 'bn-%d-%d' % (window_size, n_filter), bn)\n",
    "        # Because below layers are just operations, \n",
    "        # (it does not have learnable parameters)\n",
    "        # we just declare once.\n",
    "        \n",
    "        if not use_batch_norm:\n",
    "            self.dropout = nn.Dropout(dropout_p)\n",
    "        self.relu = nn.ReLU()\n",
    "        # An input of generator layer is max values from each filter.\n",
    "        self.generator = nn.Linear(sum(n_filters), n_classes)\n",
    "        # We use LogSoftmax + NLLLoss instead of Softmax + CrossEntropy\n",
    "        self.activation = nn.LogSoftmax(dim=-1)\n",
    "\n",
    "    def forward(self, x):\n",
    "        # |x| = (batch_size, length)\n",
    "        x = self.emb(x)\n",
    "        # zero padding\n",
    "        # |x| = (batch_size, length, word_vec_dim)\n",
    "        min_length = max(self.window_sizes)\n",
    "        if min_length > x.size(1):\n",
    "            # Because some input does not long enough for maximum length of window size,\n",
    "            # we add zero tensor for padding.\n",
    "            pad = x.new(x.size(0), min_length - x.size(1), self.word_vec_dim).zero_()\n",
    "            # |pad| = (batch_size, min_length - length, word_vec_dim)\n",
    "            x = torch.cat([x, pad], dim=1)\n",
    "            # |x| = (batch_size, min_length, word_vec_dim)\n",
    "\n",
    "        # In ordinary case of vision task, you may have 3 channels on tensor,\n",
    "        # but in this case, you would have just 1 channel,\n",
    "        # which is added by 'unsqueeze' method in below:\n",
    "        x = x.unsqueeze(1)\n",
    "        # |x| = (batch_size, 1, length, word_vec_dim)\n",
    "\n",
    "        # 아래는 convolution-pooling을 진행하는 부분, p261참조\n",
    "        cnn_outs = []\n",
    "        for window_size, n_filter in zip(self.window_sizes, self.n_filters):\n",
    "            cnn = getattr(self, 'cnn-%d-%d' % (window_size, n_filter))\n",
    "            if self.use_batch_norm:\n",
    "                bn = getattr(self, 'bn-%d-%d' % (window_size, n_filter))\n",
    "                cnn_out = bn(self.relu(cnn(x)))\n",
    "            else:\n",
    "                cnn_out = self.dropout(self.relu(cnn(x))) \n",
    "            # |cnn_out| = (batch_size, n_filter, length - window_size + 1, 1)\n",
    "\n",
    "            # In case of max pooling, we does not know the pooling size,\n",
    "            # because it depends on the length of the sentence.\n",
    "            # Therefore, we use instant function using 'nn.functional' package.\n",
    "            # This is the beauty of PyTorch. :)\n",
    "            cnn_out = nn.functional.max_pool1d(input=cnn_out.squeeze(-1),\n",
    "                                               kernel_size=cnn_out.size(-2)\n",
    "                                               ).squeeze(-1)\n",
    "            # |cnn_out| = (batch_size, n_filter)\n",
    "            cnn_outs += [cnn_out]\n",
    "        # Merge output tensors from each convolution layer.\n",
    "        cnn_outs = torch.cat(cnn_outs, dim=-1)\n",
    "        # |cnn_outs| = (batch_size, sum(n_filters))\n",
    "        y = self.activation(self.generator(cnn_outs))\n",
    "        # |y| = (batch_size, n_classes)\n",
    "\n",
    "        return y\n"
   ]
  },
  {
   "cell_type": "markdown",
   "metadata": {},
   "source": [
    "## 3. 학습/테스트 데이터"
   ]
  },
  {
   "cell_type": "markdown",
   "metadata": {},
   "source": [
    "저자의 경우 클리앙 사이트의 글을 크롤링한 후, 게시글의 카테고리 분류를 수행했습니다.\n",
    "\n",
    "그러나 저자가 데이터를 제공하고 있지 않고, [클리앙 크롤링 코드](https://github.com/kh-kim/clien_crawler)는 제대로 동작하지 않는 것 같아\n",
    "저는 [AI hub의 한국어 대화 데이터](http://www.aihub.or.kr/content/553)를 사용하겠습니다.\n",
    "\n",
    "![한국어 대화 데이터 구조](http://www.aihub.or.kr/sites/default/files/%E1%84%83%E1%85%A2%E1%84%92%E1%85%AA%E1%84%83%E1%85%A6%E1%84%8B%E1%85%B5%E1%84%90%E1%85%A5_%E1%84%80%E1%85%AE%E1%84%89%E1%85%A5%E1%86%BC%E1%84%83%E1%85%A9.JPG)\n",
    "\n",
    "해당 데이터는 AI hub를 통해 직접 다운 받으셔야 합니다.\n",
    "\n",
    "저는 대화의 카테고리를 분류해보는 실습을 진행하고자 합니다.\n",
    "\n",
    "학습을 위한 데이터는 제가 공유드린 parsing.py 파일을 사용해 간단하게 생성할 수 있습니다.<br>\n",
    "그리고 data_preparation.sh 스크립트를 사용해 corpus를 train/valid 셋으로 나눌 수 있습니다.\n",
    "\n",
    "제가 카테고리 분류를 수행할 데이터는 대략 아래와 같습니다."
   ]
  },
  {
   "cell_type": "code",
   "execution_count": 58,
   "metadata": {},
   "outputs": [
    {
     "name": "stdout",
     "output_type": "stream",
     "text": [
      "total 151128\n",
      "-rw-r--r--  1 DongGyun  staff   2720816 10  3 16:29 category_corpus.txt\n",
      "-rw-r--r--  1 DongGyun  staff   2720816 10  3 16:29 category_corpus.txt.shuf\n",
      "-rw-r--r--  1 DongGyun  staff   2450240 10  3 16:29 category_corpus.txt.shuf.train\n",
      "-rw-r--r--  1 DongGyun  staff    270576 10  3 16:29 category_corpus.txt.shuf.valid\n",
      "-rw-------  1 DongGyun  staff  35637997  5  7 16:39 dialog.json\n",
      "-rw-------  1 DongGyun  staff  23974499  5  7 16:53 dialog.xml\n",
      "-rw-r--r--  1 DongGyun  staff   2720816 10  1 19:07 dialog_category.data\n",
      "-rw-r--r--  1 DongGyun  staff         0 10  3 16:29 domain_corpus.txt\n",
      "-rw-r--r--  1 DongGyun  staff   5885165 10  3 16:29 intent_corpus.txt\n"
     ]
    }
   ],
   "source": [
    "%ll data/dialog"
   ]
  },
  {
   "cell_type": "code",
   "execution_count": 23,
   "metadata": {},
   "outputs": [
    {
     "name": "stdout",
     "output_type": "stream",
     "text": [
      "펜션/캠핑장\t재료는 직접 사 와야 하나요?\n",
      "상가\t건물이 몇 년도에 지어졌어요?\n",
      "모텔/여관\t제일 작은방은 없나요?\n",
      "pc방\t네 화장실 다녀온 후 라면 가지러 오겠습니다\n",
      "화장품\t여기 이 제품 새 제품 있나요?\n",
      "미용실\t남자만 머리할 수 있어요?\n",
      "옷수선집\t영업시간 좀 문의드려요\n",
      "카페\t몇 시에서 몇 시까지 영업하세요?\n",
      "신발\t요 신발은 몇 문이에요?\n",
      "반찬가게\t혹시 현금영수증 돼요?\n"
     ]
    }
   ],
   "source": [
    "!head -10 data/dialog/category_corpus.txt.shuf"
   ]
  },
  {
   "cell_type": "markdown",
   "metadata": {},
   "source": [
    "## 4. Code"
   ]
  },
  {
   "cell_type": "markdown",
   "metadata": {},
   "source": [
    "저자 코드의 구조를 살펴보면 아래와 같습니다.<br>\n",
    "pytorch 프로젝트의 일반적인 구성을 파악할 수 있습니다."
   ]
  },
  {
   "cell_type": "code",
   "execution_count": 57,
   "metadata": {},
   "outputs": [
    {
     "name": "stdout",
     "output_type": "stream",
     "text": [
      "total 72\n",
      "-rwxr-xr-x  1 DongGyun  staff  8624  9 23 19:52 \u001b[31mREADME.md\u001b[m\u001b[m*\n",
      "drwxr-xr-x  4 DongGyun  staff   128 10  1 19:22 \u001b[34m__pycache__\u001b[m\u001b[m/\n",
      "-rwxr-xr-x  1 DongGyun  staff  4609  9 23 19:52 \u001b[31mclassify.py\u001b[m\u001b[m*\n",
      "-rwxr-xr-x  1 DongGyun  staff  3396  9 23 19:52 \u001b[31mdata_loader.py\u001b[m\u001b[m*\n",
      "-rwxr-xr-x  1 DongGyun  staff  1201  9 23 19:52 \u001b[31mget_confusion_matrix.py\u001b[m\u001b[m*\n",
      "drwxr-xr-x  8 DongGyun  staff   256 10  2 22:24 \u001b[34msimple_ntc\u001b[m\u001b[m/\n",
      "-rwxr-xr-x  1 DongGyun  staff  4045  9 23 19:52 \u001b[31mtrain.py\u001b[m\u001b[m*\n",
      "-rwxr-xr-x  1 DongGyun  staff   725  9 23 19:52 \u001b[31mutils.py\u001b[m\u001b[m*\n"
     ]
    }
   ],
   "source": [
    "%ll simple-ntc"
   ]
  },
  {
   "cell_type": "markdown",
   "metadata": {},
   "source": [
    "* train.py: 학습 할때 실행하게 될 파이썬 코드입니다. 학습의 파라미터 설정에 대한 정보를 넘겨줄 수 있고, 학습 결과를 어떻게 저장할지 등을 설정합니다.\n",
    "* classify.py: 학습한 모델을 사용해 분류(inference)를 수행하는 코드입니다.\n",
    "* data_loader.py: 데이터에서 text와 label은 무엇인지 결정하고, vocal을 생성합니다. 또한 batch 단위로 데이터를 나누어줍니다.\n",
    "* utils.py, get_confusion_matrix.py: 저자가 모델 평가를 위해 추가한 것으로 보여지는 코드인데, 정확한 사용 방법이나 용도는 모르겠습니다. (https://github.com/kh-kim/simple-ntc#evaluation)"
   ]
  },
  {
   "cell_type": "code",
   "execution_count": 16,
   "metadata": {},
   "outputs": [
    {
     "name": "stdout",
     "output_type": "stream",
     "text": [
      "total 32\n",
      "-rwxr-xr-x  1 DongGyun  staff     0  9 23 19:52 \u001b[31m__init__.py\u001b[m\u001b[m*\n",
      "drwxr-xr-x  6 DongGyun  staff   192 10  1 19:20 \u001b[34m__pycache__\u001b[m\u001b[m/\n",
      "-rwxr-xr-x  1 DongGyun  staff  4212  9 23 19:52 \u001b[31mcnn.py\u001b[m\u001b[m*\n",
      "-rwxr-xr-x  1 DongGyun  staff  1449  9 23 19:52 \u001b[31mrnn.py\u001b[m\u001b[m*\n",
      "-rwxr-xr-x  1 DongGyun  staff  3771  9 23 19:52 \u001b[31mtrainer.py\u001b[m\u001b[m*\n"
     ]
    }
   ],
   "source": [
    "%ll simple-ntc/simple_ntc"
   ]
  },
  {
   "cell_type": "markdown",
   "metadata": {},
   "source": [
    "* rnn.py & cnn.py: 앞서 설명드렸던 RNN, CNN 모델 파일입니다.\n",
    "* trainer.py: 저자는 pytorch 모델 학습의 코드를 더 간략하게 작성하기 위하여 ignite를 사용했습니다. 이 파일은 그 ignite 사용에 대한 부분이 포함되어 있습니다. (https://pytorch.org/ignite/#ignite-your-networks)"
   ]
  },
  {
   "cell_type": "markdown",
   "metadata": {},
   "source": [
    "# 5. Training"
   ]
  },
  {
   "cell_type": "code",
   "execution_count": 48,
   "metadata": {},
   "outputs": [
    {
     "name": "stdout",
     "output_type": "stream",
     "text": [
      "total 151128\n",
      "-rw-r--r--  1 DongGyun  staff   2720816 10  3 16:29 category_corpus.txt\n",
      "-rw-r--r--  1 DongGyun  staff   2720816 10  3 16:29 category_corpus.txt.shuf\n",
      "-rw-r--r--  1 DongGyun  staff   2450240 10  3 16:29 category_corpus.txt.shuf.train\n",
      "-rw-r--r--  1 DongGyun  staff    270576 10  3 16:29 category_corpus.txt.shuf.valid\n",
      "-rw-------  1 DongGyun  staff  35637997  5  7 16:39 dialog.json\n",
      "-rw-------  1 DongGyun  staff  23974499  5  7 16:53 dialog.xml\n",
      "-rw-r--r--  1 DongGyun  staff   2720816 10  1 19:07 dialog_category.data\n",
      "-rw-r--r--  1 DongGyun  staff         0 10  3 16:29 domain_corpus.txt\n",
      "-rw-r--r--  1 DongGyun  staff   5885165 10  3 16:29 intent_corpus.txt\n"
     ]
    }
   ],
   "source": [
    "%ll data/dialog"
   ]
  },
  {
   "cell_type": "markdown",
   "metadata": {},
   "source": [
    "\\# 콘솔에서 아래 명령어를 통해 학습을 수행합니다. (CPU 사용)\n",
    "\n",
    "\\# RNN <br>\n",
    "python simple-ntc/train.py --model_fn ./models/rnn_model.pth --train ./data/dialog/category_corpus.txt.shuf.train --valid ./data/dialog/category_corpus.txt.shuf.valid --rnn --gpu_id -1\n",
    "\n",
    "\\# CNN <br>\n",
    "python simple-ntc/train.py --model_fn ./models/cnn_model.pth --train ./data/dialog/category_corpus.txt.shuf.train --valid ./data/dialog/category_corpus.txt.shuf.valid --cnn --gpu_id -1\n",
    "\n",
    "\\# RNN&CNN ensemble <br>\n",
    "python simple-ntc/train.py --model_fn ./models/ensemble_model.pth --train ./data/dialog/category_corpus.txt.shuf.train --valid ./data/dialog/category_corpus.txt.shuf.valid --rnn -cnn --gpu_id -1"
   ]
  },
  {
   "cell_type": "markdown",
   "metadata": {},
   "source": [
    "# 6. Inference"
   ]
  },
  {
   "cell_type": "code",
   "execution_count": 65,
   "metadata": {},
   "outputs": [
    {
     "name": "stdout",
     "output_type": "stream",
     "text": [
      "펜션/캠핑장\t재료는 직접 사 와야 하나요?\n",
      "태권도/합기도학원\t건물이 몇 년도에 지어졌어요?\n",
      "화장품\t제일 작은방은 없나요?\n",
      "일반홀서빙음식점\t네 화장실 다녀온 후 라면 가지러 오겠습니다\n",
      "신발\t여기 이 제품 새 제품 있나요?\n",
      "미용실\t남자만 머리할 수 있어요?\n",
      "토지\t영업시간 좀 문의드려요\n",
      "배달음식점\t몇 시에서 몇 시까지 영업하세요?\n",
      "신발\t요 신발은 몇 문이에요?\n",
      "일반홀서빙음식점\t혹시 현금영수증 돼요?\n"
     ]
    }
   ],
   "source": [
    "!head -n 10 ./data/dialog/category_corpus.txt.shuf.valid | awk -F'\\t' '{ print $2 }' | python simple-ntc/classify.py --model ./models/rnn_model.pth --gpu_id -1 --top_k 1"
   ]
  },
  {
   "cell_type": "code",
   "execution_count": 66,
   "metadata": {},
   "outputs": [
    {
     "name": "stdout",
     "output_type": "stream",
     "text": [
      "미용실\t재료는 직접 사 와야 하나요?\n",
      "주택\t건물이 몇 년도에 지어졌어요?\n",
      "카페\t제일 작은방은 없나요?\n",
      "일반홀서빙음식점\t네 화장실 다녀온 후 라면 가지러 오겠습니다\n",
      "가방\t여기 이 제품 새 제품 있나요?\n",
      "미용실\t남자만 머리할 수 있어요?\n",
      "주택\t영업시간 좀 문의드려요\n",
      "일반홀서빙음식점\t몇 시에서 몇 시까지 영업하세요?\n",
      "신발\t요 신발은 몇 문이에요?\n",
      "일반홀서빙음식점\t혹시 현금영수증 돼요?\n"
     ]
    }
   ],
   "source": [
    "!head -n 10 ./data/dialog/category_corpus.txt.shuf.valid | awk -F'\\t' '{ print $2 }' | python simple-ntc/classify.py --model ./models/cnn_model.pth --gpu_id -1 --top_k 1"
   ]
  },
  {
   "cell_type": "code",
   "execution_count": 61,
   "metadata": {},
   "outputs": [
    {
     "name": "stdout",
     "output_type": "stream",
     "text": [
      "펜션/캠핑장 미용실 세탁소\t재료는 직접 사 와야 하나요?\n",
      "주택 상가 의류\t건물이 몇 년도에 지어졌어요?\n",
      "약국 의류 가방\t제일 작은방은 없나요?\n",
      "pc방 일반홀서빙음식점 당구장\t네 화장실 다녀온 후 라면 가지러 오겠습니다\n",
      "화장품 가방 신발\t여기 이 제품 새 제품 있나요?\n",
      "미용실 카페 화장품\t남자만 머리할 수 있어요?\n",
      "차량등록 토지 주택\t영업시간 좀 문의드려요\n",
      "옷수선집 일반홀서빙음식점 세탁소\t몇 시에서 몇 시까지 영업하세요?\n",
      "신발 의류 가방\t요 신발은 몇 문이에요?\n",
      "일반홀서빙음식점 의류 배달음식점\t혹시 현금영수증 돼요?\n"
     ]
    }
   ],
   "source": [
    "!head -n 10 ./data/dialog/category_corpus.txt.shuf.valid | awk -F'\\t' '{ print $2 }' | python simple-ntc/classify.py --model ./models/ensemble_model.pth --gpu_id -1 --top_k 3"
   ]
  }
 ],
 "metadata": {
  "kernelspec": {
   "display_name": "nlu",
   "language": "python",
   "name": "nlu"
  },
  "language_info": {
   "codemirror_mode": {
    "name": "ipython",
    "version": 3
   },
   "file_extension": ".py",
   "mimetype": "text/x-python",
   "name": "python",
   "nbconvert_exporter": "python",
   "pygments_lexer": "ipython3",
   "version": "3.7.3"
  }
 },
 "nbformat": 4,
 "nbformat_minor": 4
}
